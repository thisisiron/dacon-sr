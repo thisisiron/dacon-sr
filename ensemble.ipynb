{
 "cells": [
  {
   "cell_type": "code",
   "execution_count": 1,
   "metadata": {},
   "outputs": [],
   "source": [
    "import os\n",
    "import cv2\n",
    "import zipfile\n",
    "import numpy as np\n",
    "from PIL import Image\n",
    "from tqdm.notebook import tqdm\n",
    "import matplotlib.pyplot as plt"
   ]
  },
  {
   "cell_type": "code",
   "execution_count": 2,
   "metadata": {},
   "outputs": [],
   "source": [
    "def make_submission(result, image_size, stride, save_dir='./ensemble'):\n",
    "    os.makedirs(os.path.join(save_dir), exist_ok=True)\n",
    "    os.chdir(os.path.join(save_dir))\n",
    "    sub_imgs = []\n",
    "    for i, img in enumerate(result):\n",
    "        path = f'{20000+i}.png'\n",
    "        cv2.imwrite(path, img)\n",
    "        sub_imgs.append(path)\n",
    "    submission = zipfile.ZipFile(f\"submission_ensemble.zip\", 'w')\n",
    "    for path in sub_imgs:\n",
    "        submission.write(path)\n",
    "    submission.close()"
   ]
  },
  {
   "cell_type": "markdown",
   "metadata": {},
   "source": [
    "### 최종 Ensemble 목록\n",
    "\n",
    "- subm_dirs 구성: (EXP_NAME, SUBMISSION_NAME)\n",
    "- SUBMISSION_NAME: EXP_NAME/submission/SUBMISSION_NAME.zip 에서 압축해제한 디렉토리명\n",
    "    - 즉 SUBMISSION_NAME을 넣으면 됨(.zip 파일명에 포함되지 않으니 확인)\n",
    "    - 압축 해제가 안 되어 있어도 하나하나 압축 해제할 필요 없이 아래 코드에서 압축 해제 진행\n"
   ]
  },
  {
   "cell_type": "code",
   "execution_count": 3,
   "metadata": {},
   "outputs": [],
   "source": [
    "subm_dirs = [\n",
    "    ('10030621_swinir_epoch36_lr1e5', 'submission_img2048_s512_10030621_swinir_epoch36_lr1e5-5'),  # 25.8615023148\n",
    "    ('10051136_swinir_no-acti_epoch26_lr1e5', 'submission_img2048_s512_10051136_swinir_no-acti_epoch26_lr1e5-10'),\n",
    "    ('10051136_swinir_no-acti_epoch26_lr1e5', 'submission_img2048_s512_10051136_swinir_no-acti_epoch26_lr1e5-11'),\n",
    "    ('10061251_swinir_epoch26_l1l2', 'submission_img2048_s512_10061251_swinir_epoch26_l1l2-4'),  # 25.9834354904\n",
    "    ('10061251_swinir_epoch26_l1l2', 'submission_img2048_s512_10061251_swinir_epoch26_l1l2-5'),\n",
    "            ]"
   ]
  },
  {
   "cell_type": "markdown",
   "metadata": {},
   "source": [
    "### Zip파일만 있는 경우 unzip 수행\n",
    "\n",
    "SUBMISSION 디렉토리가 존재하지 않는 경우 SUBMISSION.zip 압축 해제 진행"
   ]
  },
  {
   "cell_type": "code",
   "execution_count": 4,
   "metadata": {},
   "outputs": [
    {
     "data": {
      "application/vnd.jupyter.widget-view+json": {
       "model_id": "d7bb2ef89c9a466c8b80db970a6152d6",
       "version_major": 2,
       "version_minor": 0
      },
      "text/plain": [
       "  0%|          | 0/5 [00:00<?, ?it/s]"
      ]
     },
     "metadata": {},
     "output_type": "display_data"
    }
   ],
   "source": [
    "for exp_dir, subm_dir in tqdm(subm_dirs):\n",
    "    if not os.path.exists(os.path.join('experiments', exp_dir, 'submission', subm_dir)):\n",
    "        with zipfile.ZipFile(os.path.join('experiments',exp_dir, 'submission', f'{subm_dir}.zip'), 'r') as zip_ref:\n",
    "            zip_ref.extractall(os.path.join('experiments',exp_dir, 'submission', f'{subm_dir}'))"
   ]
  },
  {
   "cell_type": "markdown",
   "metadata": {},
   "source": [
    "### Ensemble 진행"
   ]
  },
  {
   "cell_type": "code",
   "execution_count": 5,
   "metadata": {},
   "outputs": [
    {
     "data": {
      "application/vnd.jupyter.widget-view+json": {
       "model_id": "19f3733ca81b4393be83833f16982a6a",
       "version_major": 2,
       "version_minor": 0
      },
      "text/plain": [
       "  0%|          | 0/18 [00:00<?, ?it/s]"
      ]
     },
     "metadata": {},
     "output_type": "display_data"
    }
   ],
   "source": [
    "result = []\n",
    "for img_name in tqdm(range(20000, 20018)):\n",
    "    temp = np.zeros((2048, 2048, 3))\n",
    "    for exp_dir, subm_dir in subm_dirs:\n",
    "        img = cv2.imread(os.path.join('experiments', exp_dir, 'submission', subm_dir, f'{img_name}.png'))\n",
    "        temp += img\n",
    "    temp /= len(subm_dirs)\n",
    "    temp = temp.astype(np.uint8)\n",
    "    result.append(temp)"
   ]
  },
  {
   "cell_type": "code",
   "execution_count": 6,
   "metadata": {},
   "outputs": [],
   "source": [
    "make_submission(result, 2048, 512)"
   ]
  }
 ],
 "metadata": {
  "kernelspec": {
   "display_name": "Lablup FF 21.01 on Python 3.8 (CUDA 11.1)",
   "language": "python",
   "name": "python3"
  },
  "language_info": {
   "codemirror_mode": {
    "name": "ipython",
    "version": 3
   },
   "file_extension": ".py",
   "mimetype": "text/x-python",
   "name": "python",
   "nbconvert_exporter": "python",
   "pygments_lexer": "ipython3",
   "version": "3.8.7"
  }
 },
 "nbformat": 4,
 "nbformat_minor": 4
}
